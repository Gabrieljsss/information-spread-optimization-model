{
 "cells": [
  {
   "cell_type": "markdown",
   "metadata": {},
   "source": [
    "### COM361 &mdash; Introdução a Otimização &mdash; 2022, Prof. Amit ###\n",
    "\n",
    "# Event triggered social media chatter model - Julia implementation #\n",
    "\n",
    "#### Gabriel José Souza e Silva (gabriel.jsss@poli.ufrj.br), Matheus Marinatto (marinattomatheus@poli.ufrj.br)\n",
    "\n",
    "\n",
    "### Contents ###\n",
    "\n",
    "1. Introduction and problem description\n",
    "2. Mathmatical modeling"
   ]
  },
  {
   "cell_type": "markdown",
   "metadata": {},
   "source": [
    "## 1. Introduction and problem description ##\n",
    "\n",
    "This project's goal is to describe and explore a social marketing-based model for information spread, testing different control techniques so to determine which one provides better results. An important constraint for most marketing campaigns nowadays is the advertising cost, therefore a key goal for dispersing a message is to do that as efficiently and possible respecting budget and time constraints. From that, many optimization problems can be formulated. The following question, described in [1] gives the reason for such models to exist:\n",
    "\n",
    "> At a high level, how does an organization sell to someone? Typically, individuals or groups (like marketing agencies) are enlisted as message spreaders who broadcast that information in a variety of formats including billboards, social media posts, and television advertisements.\n",
    "> \n",
    "\n",
    "So in order to sell, it's necessary to spread information and the further question would be **how to maximize sells (and information spread) while minimizing costs**.\n",
    "\n",
    "In [1], the approach to design an advertising model starts from the well established Vidale-Wolfe marketing model with some tweaks to better handle the social media dynamics. Quoting [2]:\n",
    "\n",
    "> The Vidale-Wolfe marketing model is a first-order, linear, nonhomogeneous ordinary differential equation (ODE) where the forcing term is proportional to advertising expenditure. With an initial response in sales as the initial condition, the solution of the initial value problem is straightforward for a first undergraduate ODE course.\n",
    "> \n",
    "\n",
    "Mathematically, this model is described as follows:\n",
    "\n",
    " $\\frac{dS(t)}{dt} = \\beta u(t)[M(t) - S(t)] - \\delta S(t)$\n",
    "\n",
    "where\n",
    "\n",
    "- S(t) → Sales at time t;\n",
    "- M(t) → Market size at time t;\n",
    "- $\\beta$ → Advertising constant;\n",
    "- $\\delta$ → Rate of brand sale decay;\n",
    "- $u(t)$ → Control action at time t.\n",
    "\n",
    "Most of the terms above are self-explanatory but $\\beta$, which is described in [1] as “[…] the rate of decay of brand sale given no active advertising.”\n",
    "\n",
    "From that, the Event-triggered Social Media Chatter Model is derived by doing the following:\n",
    "\n",
    "1. Normalizing Vidale-Wolfe's model by setting $M(t) = 1$;\n",
    "2. Breaking $\\beta$ into two other constants:\n",
    "    1. $\\beta_1$ → the social marketing campaign constant;\n",
    "    2. $\\beta_2$ → the social interaction constant;\n",
    "3. Generalizing the sales term $S(t)$ to an information spread value $X_t$.\n",
    "\n",
    "In [1] the meaning of these constants is explained in the following paragraph\n",
    "\n",
    "> The effectiveness of social marketing is affected by dynamic resource spending and promotion over the network to convince people to purchase a product, uphold a social or political movement, or join in an activity. The social marketing constant can be associated with a traditional advertising campaign or an event that triggers similar social media interest. Once people become exposed to an advertisement and decide to share the message, the social interaction constant may be viewed as the natural tendency of the social media network to advertise internally through posts, tweets, and likes without external influences and advertising.\n",
    "> \n",
    "\n",
    "The final mathematical model is \n",
    "\n",
    "$$\n",
    "dX_t = \\beta_1 u(t)[1 - X_t] + \\beta_2 [1 - X_t] X_t - \\delta X_t\n",
    "$$\n",
    "\n",
    "or visually \n",
    "\n",
    "![Model](./assets/model.png)\n",
    "\n",
    "The final definition to be presented is the concept of socio-equilibrium threshold. It basically describes the equilibrium level of social media chatter after the control (promotion) goes to 0 or mathematically\n",
    "\n",
    "$$\n",
    "X_{eqb} = 1 - \\frac{\\delta}{\\beta_2}\n",
    "$$\n",
    "\n",
    "In [1], $\\beta_2$ is multiplied by a factor k, but in this project the value of k will be embedded in $\\beta_2$. Finally, the “[…] goal of social media marketing is to increase peoples’ attention and interest beyond the natural equilibrium point through the control action of spending resources on ads…” and at the same time minimizing the associated costs.\n",
    "\n"
   ]
  },
  {
   "attachments": {},
   "cell_type": "markdown",
   "metadata": {},
   "source": [
    "## 2. Mathematical model ##\n",
    "\n",
    "During a marketing campaign, **the goal is to achieve social craze status as fast as possible while keeping costs as low as possible**. From that the optimization problem will be derived. The cost function for the Event-triggered Social Media Chatter Model is defined in [1] as \n",
    "\n",
    "$$\n",
    "J = \\int_{0}^{t_f}  [u^2(t) + (x-x_d)^2 + \\lambda] dt\n",
    "$$\n",
    "\n",
    "where \n",
    "\n",
    "- $\\lambda$  → weight placed on time. Meaning the importance of how long it takes to get to equilibrium;\n",
    "- $x_d$ → desired amount of activity.\n",
    "\n",
    "when there's no need to maintain $x_d$, $u(t)= 0$. Now the mentioned equations will be discretized, so they can be used in future simulations:\n",
    "\n",
    "- Event-triggered Social Media Chatter Model:\n",
    "\n",
    "$$\n",
    "x(t+1) - x(t) = \\beta_1 u(t)[1 - x(t)] + \\beta_2 [1 - x(t)] x(t) - \\delta x(t)\n",
    "$$\n",
    "\n",
    "- Cost function:\n",
    "\n",
    "$$\n",
    "J = \\sum_{t=0}^{T_F}(u^2(t) + (x(t) - x_d(t))^2 + \\lambda)\n",
    "$$\n",
    "\n",
    "- Equilibrium point:\n",
    "\n",
    "$$\n",
    "X_{eqb} = 1 - \\frac{\\delta}{\\beta_2}\n",
    "$$\n",
    "\n",
    "Gathering these equations, the optimization problem can be formulated as\n",
    "\n",
    "$$\n",
    "\\begin{aligned}\\underset{u}{\\text{minimize}}\\qquad& J(u, x) \\\\\\text{subjected to:}\\qquad& u_i \\ge 0 && i=1,\\dots,m\\\\& x_{i+1} = x_i + \\beta_1 u_i[1 - x_i] + \\beta_2 [1 - x_i] x_i - \\delta x_i \\\\& x_i \\ge 0\\end{aligned}\n",
    "$$\n",
    "\n",
    "More constraints may be added according to the control technique used. The constants used are defined in the cell below, following the same as used in the snipet on page 151 of [1]"
   ]
  },
  {
   "cell_type": "code",
   "execution_count": 2,
   "metadata": {},
   "outputs": [
    {
     "name": "stderr",
     "output_type": "stream",
     "text": [
      "\u001b[32m\u001b[1m    Updating\u001b[22m\u001b[39m registry at `~/.julia/registries/General.toml`\n"
     ]
    },
    {
     "name": "stderr",
     "output_type": "stream",
     "text": [
      "\u001b[32m\u001b[1m   Resolving\u001b[22m\u001b[39m package versions...\n"
     ]
    },
    {
     "name": "stderr",
     "output_type": "stream",
     "text": [
      "\u001b[32m\u001b[1m  No Changes\u001b[22m\u001b[39m to `~/.julia/environments/v1.8/Project.toml`\n",
      "\u001b[32m\u001b[1m  No Changes\u001b[22m\u001b[39m to `~/.julia/environments/v1.8/Manifest.toml`\n"
     ]
    },
    {
     "name": "stderr",
     "output_type": "stream",
     "text": [
      "\u001b[32m\u001b[1m   Resolving\u001b[22m\u001b[39m package versions...\n"
     ]
    },
    {
     "name": "stderr",
     "output_type": "stream",
     "text": [
      "\u001b[32m\u001b[1m  No Changes\u001b[22m\u001b[39m to `~/.julia/environments/v1.8/Project.toml`\n",
      "\u001b[32m\u001b[1m  No Changes\u001b[22m\u001b[39m to `~/.julia/environments/v1.8/Manifest.toml`\n"
     ]
    },
    {
     "name": "stderr",
     "output_type": "stream",
     "text": [
      "\u001b[32m\u001b[1m   Resolving\u001b[22m\u001b[39m package versions...\n"
     ]
    },
    {
     "name": "stderr",
     "output_type": "stream",
     "text": [
      "\u001b[32m\u001b[1m  No Changes\u001b[22m\u001b[39m to `~/.julia/environments/v1.8/Project.toml`\n",
      "\u001b[32m\u001b[1m  No Changes\u001b[22m\u001b[39m to `~/.julia/environments/v1.8/Manifest.toml`\n"
     ]
    },
    {
     "name": "stderr",
     "output_type": "stream",
     "text": [
      "\u001b[32m\u001b[1m   Resolving\u001b[22m\u001b[39m package versions...\n"
     ]
    },
    {
     "name": "stderr",
     "output_type": "stream",
     "text": [
      "\u001b[32m\u001b[1m  No Changes\u001b[22m\u001b[39m to `~/.julia/environments/v1.8/Project.toml`\n",
      "\u001b[32m\u001b[1m  No Changes\u001b[22m\u001b[39m to `~/.julia/environments/v1.8/Manifest.toml`\n"
     ]
    },
    {
     "name": "stdout",
     "output_type": "stream",
     "text": [
      "  8.476310 seconds (9.04 M allocations: 640.391 MiB, 5.07% gc time, 12.01% compilation time: 94% of which was recompilation)\n"
     ]
    },
    {
     "name": "stdout",
     "output_type": "stream",
     "text": [
      "  0.509768 seconds (511.08 k allocations: 36.297 MiB, 7.96% compilation time: 100% of which was recompilation)\n"
     ]
    },
    {
     "name": "stdout",
     "output_type": "stream",
     "text": [
      " 11.973769 seconds (9.71 M allocations: 509.679 MiB, 3.26% gc time, 56.39% compilation time: 68% of which was recompilation)\n"
     ]
    },
    {
     "name": "stdout",
     "output_type": "stream",
     "text": [
      "  0.871071 seconds (765.77 k allocations: 40.801 MiB, 84.37% compilation time: 100% of which was recompilation)\n"
     ]
    }
   ],
   "source": [
    "#dependencies\n",
    "\n",
    "import Pkg; \n",
    "Pkg.add(\"JuMP\");\n",
    "Pkg.add(\"Clp\");\n",
    "Pkg.add(\"PyPlot\");\n",
    "Pkg.add(\"Ipopt\");\n",
    "\n",
    "@time using Clp;\n",
    "@time using JuMP;\n",
    "@time using PyPlot;\n",
    "@time using Ipopt;\n"
   ]
  },
  {
   "cell_type": "code",
   "execution_count": 4,
   "metadata": {},
   "outputs": [],
   "source": [
    "δ = 0.1; #forgetting factor\n",
    "β1 = 0.1; #spreading constant\n",
    "β2 = 0.15; #social spreading\n",
    "λ = 1; #time cost weight\n",
    "xEquilibrium = 1-(δ/β2);"
   ]
  },
  {
   "cell_type": "code",
   "execution_count": 11,
   "metadata": {},
   "outputs": [
    {
     "name": "stdout",
     "output_type": "stream",
     "text": [
      "101.08874607920225\n",
      "[6.874457517164118e-44, 0.031437426045910245, 0.05916807525980814, 0.08380468982501192, 0.1058223383370003, 0.12559607312485235, 0.1434268819582382, 0.15955995997145325, 0.17419781643498747, 0.18750983156798834, 0.19963932678927565, 0.21070886402942227, 0.22082426516899628, 0.23007769447205223, 0.23855004713085598, 0.2463128186794993, 0.2534295824245637, 0.2599571683940772, 0.2659466132125766, 0.27144393285420787, 0.2764907574467722, 0.28112485785840163, 0.2853805867672089, 0.28928925164102937, 0.2928794330756142, 0.296177258921739, 0.29920664233205135, 0.3019894900990117, 0.3045458863041568, 0.306894255257819, 0.30905150690361893, 0.3110331672378323, 0.3128534958079513, 0.3145255919753164, 0.31606149132910266, 0.3174722534044816, 0.31876804167207773, 0.319958196617897, 0.32105130261423953, 0.3220552491862164, 0.32297728720035385, 0.3238240804375237, 0.32460175295910865, 0.3253159326305974, 0.32597179112893365, 0.3265740807275392, 0.32712716812493087, 0.32763506555843347, 0.3281014594230037, 0.3285297365961321, 0.3289230086527747, 0.329284134138987, 0.32961573905912095, 0.32992023571891993, 0.3301998400554295, 0.3304565875742076, 0.33069234800475955, 0.3309088387763531, 0.3311076374083364, 0.33129019290171974, 0.33145783621193625, 0.3316117898762011, 0.33175317686284245, 0.33188302870468767, 0.3320022929739548, 0.3321118401516707, 0.3322124699409191, 0.33230491707205695, 0.3323898566500757, 0.33246790909605545, 0.3325396447298642, 0.3326055880261866, 0.33266622155394127, 0.3327219895892651, 0.3327733013835354, 0.33282053407384476, 0.33286403524059377, 0.3329041251381802, 0.33294109864326327, 0.33297522697701626, 0.3330067592628236, 0.33303592398066134, 0.3330629303757871, 0.33308796987341127, 0.33311121754294026, 0.33313283364523194, 0.3331529652847691, 0.33317174817754447, 0.33318930853732687, 0.33320576507938454, 0.333221231137736, 0.33323581687040477, 0.33324963143324904, 0.33326278471809423, 0.3332753875839147, 0.33328754840930785, 0.3332993633872432, 0.3333109027031155, 0.33332220934130513, 0.33333333333333326]\n",
      "[0.31437426045910244, 0.2716089324788236, 0.2359968809289431, 0.2060793994091896, 0.18075124952920102, 0.15916169618012152, 0.14064677295832634, 0.12468189388643869, 0.11084805030838857, 0.0988072778601013, 0.08828457290971622, 0.07905437500594156, 0.07093033330817139, 0.06375746908477158, 0.05740610953549825, 0.051767146963141435, 0.04674830067340579, 0.04227114533259094, 0.03826873076878659, 0.034683662195792525, 0.031466541799524336, 0.02857469609609317, 0.025971130879352485, 0.023623668611515426, 0.02150423295933869, 0.01958825268237945, 0.017854162842875526, 0.016282985766144377, 0.01485797765550301, 0.013564329491979627, 0.012388913001401602, 0.011320064180742254, 0.010347398240668897, 0.009461650917106391, 0.008654541988731673, 0.007918657553862375, 0.007247348203465353, 0.006634640703708094, 0.006075161192561643, 0.005564068216962045, 0.005096994203046482, 0.00466999417243555, 0.00427950070078495, 0.00392228426758799, 0.0035954182738923116, 0.003296248111593831, 0.0030223637578658904, 0.0027715754439933582, 0.002541892011801668, 0.002331501624961929, 0.0021387545483220046, 0.001962147747378923, 0.0018003110931640082, 0.0016519949860769692, 0.0015160592363572646, 0.00139146305959004, 0.0012772560635411696, 0.0011725701183505, 0.001076612015784495, 0.0009886568337147668, 0.0009080419290927034, 0.0008341614905174319, 0.0007664615933681174, 0.0007044357106600741, 0.0006476206360283202, 0.0005955927856949705, 0.000547964884387995, 0.0005043830894787041, 0.00046452460716494973, 0.0004280957590427361, 0.00039483030127631866, 0.00036448768411137934, 0.0003368509558979739, 0.00031172416907927075, 0.0002889293593256616, 0.00026830334356550434, 0.00024969465713397973, 0.00023296092458505738, 0.00021796687465326994, 0.00020458311577514616, 0.000192685713816542, 0.00018215656276122775, 0.00017288450142767428, 0.00016476709310729034, 0.0001577129479566042, 0.00015164443972887353, 0.00014650066615664277, 0.0001422405388131933, 0.00013884595020999003, 0.00013632497202461667, 0.00013471475737066724, 0.00013408271932630476, 0.00013452162362670558, 0.00013612828790379638, 0.0001389485763543168, 0.00014288094968812546, 0.00014760743005370455, 0.0001527726439281304, 0.000158514538006201, 5.589384443557803e-47]\n"
     ]
    },
    {
     "data": {
      "image/png": "[encoded data removed]",
      "text/plain": [
       "Figure(PyObject <Figure size 640x480 with 2 Axes>)"
      ]
     },
     "metadata": {},
     "output_type": "display_data"
    }
   ],
   "source": [
    "m = Model(Ipopt.Optimizer);\n",
    "set_silent(m);\n",
    "numberOfIterations = 100;\n",
    "@variable(m, xOptimalControl[1:numberOfIterations] >= 0);        \n",
    "@variable(m, uOptimalControl[1:numberOfIterations] >= 0);\n",
    "\n",
    "for t in 1:numberOfIterations-1\n",
    "    @constraint(m, xOptimalControl[t+1] == xOptimalControl[t] + β1*uOptimalControl[t]*(1 - xOptimalControl[t]) + β2*(1 - xOptimalControl[t])*xOptimalControl[t] - δ*xOptimalControl[t]);\n",
    "end\n",
    "\n",
    "@constraint(m, uOptimalControl[numberOfIterations] == 0);\n",
    "@constraint(m, xOptimalControl[numberOfIterations] == xEquilibrium);\n",
    "@constraint(m, sum(xOptimalControl) >= 0);\n",
    "@constraint(m, sum(uOptimalControl) >= 0);\n",
    "\n",
    "@constraint(m, xOptimalControl[1] == 0) #prevent explosion\n",
    "@constraint(m, uOptimalControl[1] <= 1000) #prevent explosion\n",
    "\n",
    "@objective(m, Min, sum(\n",
    "    uOptimalControl .* uOptimalControl .+ (xOptimalControl .- xEquilibrium).*(xOptimalControl .- xEquilibrium) .+ λ\n",
    "));\n",
    "optimize!(m);\n",
    "\n",
    "println(JuMP.objective_value.(m))\n",
    "println(JuMP.value.(xOptimalControl));\n",
    "println(JuMP.value.(uOptimalControl));\n",
    "\n",
    "####### exporting variables for further analysis ########\n",
    "costOptimalControlResult = JuMP.objective_value.(m);\n",
    "xOptimalControlResult = JuMP.value.(xOptimalControl);\n",
    "uOptimalControlResult = JuMP.value.(uOptimalControl);\n",
    "\n",
    "##### plotting #######\n",
    "clf(); #required for vscode on mac \n",
    "fig = plt.figure();\n",
    "\n",
    "ax1 = fig.add_subplot(2, 1, 1);\n",
    "ax1.title.set_text(\"x vs step\");\n",
    "plt.plot(range(1, numberOfIterations), transpose(JuMP.value.(xOptimalControl)));\n",
    "plt.plot(range(1, numberOfIterations), xEquilibrium .* ones(numberOfIterations));\n",
    "\n",
    "ax2 = fig.add_subplot(2, 1, 2);\n",
    "ax2.title.set_text(\"u vs step\");\n",
    "plt.plot(range(1, numberOfIterations), transpose(JuMP.value.(uOptimalControl)));\n",
    "\n",
    "fig.tight_layout();\n",
    "show()\n",
    "gcf()"
   ]
  },
  {
   "cell_type": "code",
   "execution_count": 12,
   "metadata": {},
   "outputs": [
    {
     "name": "stdout",
     "output_type": "stream",
     "text": [
      "This is Ipopt version 3.14.4, running with linear solver MUMPS 5.4.1.\n",
      "\n",
      "Number of nonzeros in equality constraint Jacobian...:      597\n",
      "Number of nonzeros in inequality constraint Jacobian.:      301\n",
      "Number of nonzeros in Lagrangian Hessian.............:      398\n",
      "\n",
      "Total number of variables............................:      200\n",
      "                     variables with only lower bounds:      200\n",
      "                variables with lower and upper bounds:        0\n",
      "                     variables with only upper bounds:        0\n",
      "Total number of equality constraints.................:      102\n",
      "Total number of inequality constraints...............:      103\n",
      "        inequality constraints with only lower bounds:        2\n",
      "   inequality constraints with lower and upper bounds:        0\n",
      "        inequality constraints with only upper bounds:      101\n",
      "\n",
      "iter    objective    inf_pr   inf_du lg(mu)  ||d||  lg(rg) alpha_du alpha_pr  ls\n",
      "   0  1.1046445e+02 3.23e-01 1.77e+00  -1.0 0.00e+00    -  0.00e+00 0.00e+00   0\n",
      "   1  1.0928155e+02 1.59e-01 1.09e+01  -1.0 4.19e+00    -  4.24e-02 5.08e-01h  1\n",
      "   2  1.0908609e+02 1.37e-01 9.43e+00  -1.0 3.55e+00    -  2.30e-01 1.36e-01f  1\n",
      "   3  1.0811629e+02 1.05e-01 7.25e+00  -1.0 8.53e+00    -  3.00e-01 2.33e-01f  1\n",
      "   4  1.0645084e+02 3.59e-02 1.01e+01  -1.0 6.40e+00    -  9.90e-01 6.59e-01f  1\n",
      "   5  1.0515606e+02 1.09e-02 2.63e+00  -1.0 5.43e+00    -  6.60e-01 6.96e-01f  1\n",
      "   6  1.0365801e+02 1.36e-03 8.14e+01  -1.0 4.98e+00    -  7.16e-01 9.90e-01f  1\n",
      "   7  1.0267705e+02 7.45e-04 9.64e+03  -1.0 3.12e+00    -  6.68e-01 9.93e-01f  1\n",
      "   8  1.0225200e+02 1.71e-04 6.79e-02  -1.0 1.32e+00    -  1.00e+00 1.00e+00f  1\n",
      "   9  1.0198000e+02 7.27e-05 8.15e+05  -5.7 9.50e-01    -  7.26e-01 1.00e+00f  1\n",
      "iter    objective    inf_pr   inf_du lg(mu)  ||d||  lg(rg) alpha_du alpha_pr  ls\n",
      "  10  1.0157403e+02 2.02e-04 3.94e+05  -5.7 1.57e+00    -  5.17e-01 1.00e+00f  1\n",
      "  11  1.0128561e+02 2.87e-04 1.84e+05  -5.7 1.61e+00    -  5.32e-01 9.71e-01f  1\n",
      "  12  1.0121311e+02 1.39e-04 8.13e+04  -5.7 8.05e-01    -  5.59e-01 8.99e-01f  1\n",
      "  13  1.0119171e+02 5.01e-05 2.85e+04  -5.7 4.43e-01    -  6.49e-01 1.00e+00h  1\n",
      "  14  1.0118636e+02 1.49e-05 8.27e+03  -5.7 2.35e-01    -  7.10e-01 1.00e+00h  1\n",
      "  15  1.0118501e+02 3.87e-06 2.10e+03  -5.7 1.18e-01    -  7.47e-01 1.00e+00h  1\n",
      "  16  1.0118468e+02 9.05e-07 4.27e+02  -5.7 5.58e-02    -  7.97e-01 1.00e+00h  1\n",
      "  17  1.0118461e+02 1.92e-07 4.50e+01  -5.7 2.52e-02    -  8.95e-01 1.00e+00h  1\n",
      "  18  1.0118460e+02 3.16e-08 2.32e-06  -5.7 9.87e-03    -  1.00e+00 1.00e+00h  1\n",
      "  19  1.0118458e+02 7.77e-09 1.76e+01  -8.6 6.63e-03    -  9.04e-01 1.00e+00h  1\n",
      "iter    objective    inf_pr   inf_du lg(mu)  ||d||  lg(rg) alpha_du alpha_pr  ls\n",
      "  20  1.0118458e+02 6.68e-10 8.62e-01  -8.6 1.12e-03    -  9.51e-01 1.00e+00h  1\n",
      "  21  1.0118458e+02 8.44e-11 2.23e-09  -8.6 2.11e-04    -  1.00e+00 1.00e+00h  1\n",
      "\n",
      "Number of Iterations....: 21\n",
      "\n",
      "                                   (scaled)                 (unscaled)\n",
      "Objective...............:   1.0118457618905481e+02    1.0118457618905481e+02\n",
      "Dual infeasibility......:   2.2342706180529147e-09    2.2342706180529147e-09\n",
      "Constraint violation....:   8.4382391000253855e-11    8.4382391000253855e-11\n",
      "Variable bound violation:   0.0000000000000000e+00    0.0000000000000000e+00\n",
      "Complementarity.........:   7.0162096033375054e-09    7.0162096033375054e-09\n",
      "Overall NLP error.......:   7.0162096033375054e-09    7.0162096033375054e-09\n",
      "\n",
      "\n",
      "Number of objective function evaluations             = 22\n",
      "Number of objective gradient evaluations             = 22\n",
      "Number of equality constraint evaluations            = 22\n",
      "Number of inequality constraint evaluations          = 22\n",
      "Number of equality constraint Jacobian evaluations   = 22\n",
      "Number of inequality constraint Jacobian evaluations = 22\n",
      "Number of Lagrangian Hessian evaluations             = 21\n",
      "Total seconds in IPOPT                               = 0.106\n",
      "\n",
      "EXIT: Optimal Solution Found.\n",
      "101.18457618905481\n",
      "[4.366201094381471e-42, 0.015000000539163736, 0.030491250986754773, 0.046418987604532995, 0.06272044391063221, 0.07932558116164078, 0.09615809371725109, 0.11313666871971453, 0.13017646271160468, 0.14719072978131814, 0.1629716220884861, 0.17729794362921308, 0.19033267467940657, 0.20221406357475571, 0.21306059976366917, 0.22297479678938129, 0.23204610045044144, 0.24035314745608433, 0.24796553708875252, 0.25494523442534334, 0.261347692493896, 0.26722275835517195, 0.2726154118383949, 0.2775663737307572, 0.2821126113897811, 0.28628776316019616, 0.2901224980295607, 0.29364482321925056, 0.2968803495693726, 0.29985252241147936, 0.30258282396533803, 0.30509095202208747, 0.30739497869379334, 0.30951149224946295, 0.3114557244677326, 0.3132416654770347, 0.31488216769489363, 0.3163890401960481, 0.31777313461669915, 0.31904442352583084, 0.32021207205384067, 0.32128450345568293, 0.3222694591942101, 0.32317405405467525, 0.3240048267397914, 0.32476778634351516, 0.325468455058694, 0.32611190743720125, 0.3267028064898763, 0.327245436886454, 0.32774373549190783, 0.3282013194546901, 0.3286215120438203, 0.3290073664153155, 0.32936168747365646, 0.3296870519804267, 0.3299858270501573, 0.33026018716340366, 0.33051212981793143, 0.33074348992563124, 0.3309559530420947, 0.3311510674958461, 0.33133025548407863, 0.33149482323299373, 0.3316459703684239, 0.3317847986683164, 0.3319123203395101, 0.3320294658758295, 0.3321370914476902, 0.3322359856947119, 0.3323268757775714, 0.33241043259732217, 0.33248727518418203, 0.33255797435492224, 0.3326230558059052, 0.3326830028322955, 0.33273825884613406, 0.3327892298216273, 0.3328362867429237, 0.3328797680819291, 0.3329199822991301, 0.3329572103408341, 0.3329917080996877, 0.333023708808175, 0.3330534253433988, 0.33308105243326036, 0.33310676876815004, 0.33313073903925167, 0.3331531159474351, 0.33317404226089026, 0.3331936530537186, 0.33321207834310934, 0.33322944646776964, 0.33324588868662636, 0.3332615454168466, 0.33327657335680066, 0.3332911472704001, 0.3333054338668028, 0.3333195051572578, 0.33333333333333326]\n",
      "[0.15000000539163735, 0.15000000437712227, 0.1500000030041235, 0.15000000106414704, 0.1499999981519756, 0.14999999336299266, 0.14999998418373858, 0.14999996006204624, 0.14999974237789782, 0.13685501396042307, 0.12140213098366137, 0.10799800392136731, 0.09632022900125471, 0.0861059567816986, 0.0771392296719881, 0.06924135536209176, 0.06226351472482485, 0.056081027248439864, 0.050588860050138816, 0.04569808003426468, 0.041333028562129635, 0.03742905479364129, 0.03393068476268309, 0.030790133037945634, 0.027966085747597732, 0.02542270004613967, 0.023128777332566536, 0.021057076787577997, 0.01918374286474505, 0.017487825807478274, 0.01595087847750785, 0.014556616069444682, 0.01329062786988846, 0.01214013226224809, 0.011093767802768589, 0.01014141449202199, 0.009274040409949974, 0.008483569725573407, 0.007762768776439956, 0.007105147470123811, 0.006504873715888666, 0.005956698968837991, 0.005455893277190449, 0.004998188478203898, 0.004579728399735556, 0.004197025100484529, 0.0038469203289251265, 0.0035265515036725574, 0.0032333216204666116, 0.002964872576819929, 0.0027190614782187732, 0.002493939552424633, 0.002287733352216649, 0.0020988279710515965, 0.001925752031157935, 0.0017671642385628005, 0.001621841342271944, 0.001488667357490761, 0.0013666238595702413, 0.0012547810471159144, 0.00115228927901133, 0.0010583710802013625, 0.0009723140885076169, 0.0008934656899928421, 0.0008212298082843236, 0.0007550655142232905, 0.0006944862620432853, 0.0006390581758955053, 0.0005883961533260017, 0.0005421574450748537, 0.0005000333685547435, 0.0004617404797245977, 0.0004270126512446559, 0.0003955951421036851, 0.00036724113068812246, 0.0003417105828276043, 0.0003187709165200234, 0.00029819876096200246, 0.00027978214831589024, 0.0002633226379677232, 0.0002486370723924106, 0.00023555884453234415, 0.00022393869254573763, 0.0002136451266688416, 0.00020456464769452, 0.0001966019584891054, 0.00018968042552106184, 0.00018374314849295024, 0.0001787551831230172, 0.0001747077860418492, 0.00017162606173018807, 0.000169582050041814, 0.00016871555648670722, 0.00016926218563930983, 0.00017157129262496422, 0.00017603125420999336, 0.00018265226161364524, 0.00019013891047971022, 0.00019704798580982456, 2.2734494538690495e-48]\n"
     ]
    },
    {
     "data": {
      "image/png": "[encoded data removed]",
      "text/plain": [
       "Figure(PyObject <Figure size 640x480 with 2 Axes>)"
      ]
     },
     "metadata": {},
     "output_type": "display_data"
    }
   ],
   "source": [
    "m = Model(Ipopt.Optimizer);\n",
    "numberOfIterations = 100;\n",
    "@variable(m, xOptimalControlLimitedCosts[1:numberOfIterations] >= 0);        \n",
    "@variable(m, uOptimalControlLimitedCosts[1:numberOfIterations] >= 0);\n",
    "\n",
    "for t in 1:numberOfIterations-1\n",
    "    @constraint(m, xOptimalControlLimitedCosts[t+1] == xOptimalControlLimitedCosts[t] + β1*uOptimalControlLimitedCosts[t]*(1 - xOptimalControlLimitedCosts[t]) + β2*(1 - xOptimalControlLimitedCosts[t])*xOptimalControlLimitedCosts[t] - δ*xOptimalControlLimitedCosts[t]);\n",
    "end\n",
    "\n",
    "@constraint(m, uOptimalControlLimitedCosts[numberOfIterations] == 0);\n",
    "@constraint(m, xOptimalControlLimitedCosts[numberOfIterations] == xEquilibrium);\n",
    "@constraint(m, sum(xOptimalControlLimitedCosts) >= 0);\n",
    "@constraint(m, sum(uOptimalControlLimitedCosts) >= 0);\n",
    "\n",
    "@constraint(m, xOptimalControlLimitedCosts[1] == 0) #prevent explosion\n",
    "@constraint(m, uOptimalControlLimitedCosts[1] <= 1000) #prevent explosion\n",
    "\n",
    "##### introduce max possible control input ###########################\n",
    "@constraint(m, uOptimalControlLimitedCosts .<= 0.15)\n",
    "##### introduce max possible control input ###########################\n",
    "\n",
    "advertisingCost = @expression(m, sum(uOptimalControlLimitedCosts .* uOptimalControlLimitedCosts .+ (xOptimalControlLimitedCosts .- xEquilibrium).*(xOptimalControlLimitedCosts .- xEquilibrium) .+ λ)) #prevent explosion\n",
    "@objective(m, Min, advertisingCost);\n",
    "optimize!(m);\n",
    "\n",
    "println(JuMP.objective_value.(m))\n",
    "println(JuMP.value.(xOptimalControlLimitedCosts));\n",
    "println(JuMP.value.(uOptimalControlLimitedCosts));\n",
    "\n",
    "####### exporting variables for further analysis ########\n",
    "costOptimalControlResult = JuMP.objective_value.(m);\n",
    "xOptimalControlLimitedCostsResult = JuMP.value.(xOptimalControlLimitedCosts);\n",
    "uOptimalControlLimitedCostsResult = JuMP.value.(uOptimalControlLimitedCosts);\n",
    "\n",
    "##### plotting #######\n",
    "clf(); #required for vscode on mac \n",
    "fig = plt.figure();\n",
    "\n",
    "ax1 = fig.add_subplot(2, 1, 1);\n",
    "ax1.title.set_text(\"x vs step\");\n",
    "plt.plot(range(1, numberOfIterations), transpose(JuMP.value.(xOptimalControlLimitedCosts)));\n",
    "plt.plot(range(1, numberOfIterations), xEquilibrium .* ones(numberOfIterations));\n",
    "\n",
    "ax2 = fig.add_subplot(2, 1, 2);\n",
    "ax2.title.set_text(\"u vs step\");\n",
    "plt.plot(range(1, numberOfIterations), transpose(JuMP.value.(uOptimalControlLimitedCosts)));\n",
    "\n",
    "fig.tight_layout();\n",
    "show()\n",
    "gcf()"
   ]
  },
  {
   "cell_type": "markdown",
   "metadata": {},
   "source": [
    "**Tenha certeza de que seu código compila corretamente! Rodarei seu código!**"
   ]
  },
  {
   "cell_type": "markdown",
   "metadata": {
    "collapsed": true
   },
   "source": [
    "## 4. Resultados e discussão ##\n",
    "\n",
    "Neste seção, os resultados obtidos serão exibidos e discutidos. Mostre figuras, gráficos, imagens, curvas de compromisso, e o que mais puder melhor ilustrar seus resultados. A discussão deverá explicar o que significam os resultados e como interpretá-los. As limitações da sua abordagem/modelo também devem ser colocadas, bem como uma análise da sensibilidade dos resultados em relação às hipóteses feitas.\n",
    "\n",
    "\n",
    "Utilize plots (veja exemplos  `PyPlot` [aqui](https://gist.github.com/gizmaa/7214002))\n",
    "\n",
    "Aqui está um exemplo de uma tabela (em Markdown):\n",
    "\n",
    "| Tabelas        | São           | Boas  |\n",
    "| ------------- |:-------------:| -----:|\n",
    "| col 3 é      | alinhado à direita |\\$1600 |\n",
    "| col 2 é      | centrado      |  \\$12 |\n",
    "| texto | também serve      |   \\$1 |\n",
    "\n",
    "### 4.A. Subseções devem ser utilizadas para organizar seu texto.\n",
    "\n",
    "#### 4.A.a. ou até subsubseções."
   ]
  },
  {
   "cell_type": "markdown",
   "metadata": {
    "collapsed": true
   },
   "source": [
    "## 5. Conclusão ##\n",
    "\n",
    "Faça um resumo do que encontrou e dos seus resultados, e fale de pelo menos uma direção na qual  seu trabalho pode ser desenvolvido no futuro, algo que poderia ser interessante em decorrência do seu projeto.\n"
   ]
  },
  {
   "cell_type": "markdown",
   "metadata": {},
   "source": [
    "## 6. Referências bibliográficas ##\n",
    "\n",
    "Nesta seção, cite _*todas*_ as referências utilizadas, na formulação matemática, no código ou para extrair dados ou figuras. Omissão de fontes é transgressão grave, denominada plágio."
   ]
  }
 ],
 "metadata": {
  "@webio": {
   "lastCommId": null,
   "lastKernelId": null
  },
  "kernelspec": {
   "display_name": "Julia 1.8.1",
   "language": "julia",
   "name": "julia-1.8"
  },
  "language_info": {
   "file_extension": ".jl",
   "mimetype": "application/julia",
   "name": "julia",
   "version": "1.8.1"
  }
 },
 "nbformat": 4,
 "nbformat_minor": 1
}
