{
 "cells": [
  {
   "cell_type": "markdown",
   "metadata": {},
   "source": [
    "### COM361 &mdash; Introdução a Otimização &mdash; 2022, Prof. Amit ###\n",
    "\n",
    "# Event triggered social media chatter model - Julia implementation #\n",
    "\n",
    "#### Gabriel José Souza e Silva (gabriel.jsss@poli.ufrj.br), Matheus Marinatto (marinattomatheus@poli.ufrj.br)\n",
    "\n",
    "\n",
    "### Contents ###\n",
    "\n",
    "1. Introduction and problem description\n",
    "2. Mathmatical modeling"
   ]
  },
  {
   "cell_type": "markdown",
   "metadata": {},
   "source": [
    "## 1. Introduction and problem description ##\n",
    "\n",
    "This project's goal is to describe and explore a social marketing-based model for information spread, testing different control techniques so to determine which one provides better results. An important constraint for most marketing campaigns nowadays is the advertising cost, therefore a key goal for dispersing a message is to do that as efficiently and possible respecting budget and time constraints. From that, many optimization problems can be formulated. The following question, described in [1] gives the reason for such models to exist:\n",
    "\n",
    "> At a high level, how does an organization sell to someone? Typically, individuals or groups (like marketing agencies) are enlisted as message spreaders who broadcast that information in a variety of formats including billboards, social media posts, and television advertisements.\n",
    "> \n",
    "\n",
    "So in order to sell, it's necessary to spread information and the further question would be **how to maximize sells (and information spread) while minimizing costs**.\n",
    "\n",
    "In [1], the approach to design an advertising model starts from the well established Vidale-Wolfe marketing model with some tweaks to better handle the social media dynamics. Quoting [2]:\n",
    "\n",
    "> The Vidale-Wolfe marketing model is a first-order, linear, nonhomogeneous ordinary differential equation (ODE) where the forcing term is proportional to advertising expenditure. With an initial response in sales as the initial condition, the solution of the initial value problem is straightforward for a first undergraduate ODE course.\n",
    "> \n",
    "\n",
    "Mathematically, this model is described as follows:\n",
    "\n",
    " $\\frac{dS(t)}{dt} = \\beta u(t)[M(t) - S(t)] - \\delta S(t)$\n",
    "\n",
    "where\n",
    "\n",
    "- S(t) → Sales at time t;\n",
    "- M(t) → Market size at time t;\n",
    "- $\\beta$ → Advertising constant;\n",
    "- $\\delta$ → Rate of brand sale decay;\n",
    "- $u(t)$ → Control action at time t.\n",
    "\n",
    "Most of the terms above are self-explanatory but $\\beta$, which is described in [1] as “[…] the rate of decay of brand sale given no active advertising.”\n",
    "\n",
    "From that, the Event-triggered Social Media Chatter Model is derived by doing the following:\n",
    "\n",
    "1. Normalizing Vidale-Wolfe's model by setting $M(t) = 1$;\n",
    "2. Breaking $\\beta$ into two other constants:\n",
    "    1. $\\beta_1$ → the social marketing campaign constant;\n",
    "    2. $\\beta_2$ → the social interaction constant;\n",
    "3. Generalizing the sales term $S(t)$ to an information spread value $X_t$.\n",
    "\n",
    "In [1] the meaning of these constants is explained in the following paragraph\n",
    "\n",
    "> The effectiveness of social marketing is affected by dynamic resource spending and promotion over the network to convince people to purchase a product, uphold a social or political movement, or join in an activity. The social marketing constant can be associated with a traditional advertising campaign or an event that triggers similar social media interest. Once people become exposed to an advertisement and decide to share the message, the social interaction constant may be viewed as the natural tendency of the social media network to advertise internally through posts, tweets, and likes without external influences and advertising.\n",
    "> \n",
    "\n",
    "The final mathematical model is \n",
    "\n",
    "$$\n",
    "dX_t = \\beta_1 u(t)[1 - X_t] + \\beta_2 [1 - X_t] X_t - \\delta X_t\n",
    "$$\n",
    "\n",
    "or visually \n",
    "\n",
    "![Model](./assets/model.png)\n",
    "\n",
    "The final definition to be presented is the concept of socio-equilibrium threshold. It basically describes the equilibrium level of social media chatter after the control (promotion) goes to 0 or mathematically\n",
    "\n",
    "$$\n",
    "X_{eqb} = 1 - \\frac{\\delta}{\\beta_2}\n",
    "$$\n",
    "\n",
    "In [1], $\\beta_2$ is multiplied by a factor k, but in this project the value of k will be embedded in $\\beta_2$. Finally, the “[…] goal of social media marketing is to increase peoples’ attention and interest beyond the natural equilibrium point through the control action of spending resources on ads…” and at the same time minimizing the associated costs.\n",
    "\n"
   ]
  },
  {
   "cell_type": "markdown",
   "metadata": {},
   "source": [
    "## 2. Mathematical model ##\n",
    "\n",
    "During a marketing campaign, **the goal is to achieve social craze status as fast as possible while keeping costs as low as possible**. From that the optimization problem will be derived. The cost function for the Event-triggered Social Media Chatter Model is defined in [1] as \n",
    "\n",
    "$$\n",
    "J = \\int_{0}^{t_f}  [u^2(t) + (x-x_d)^2 + \\lambda] dt\n",
    "$$\n",
    "\n",
    "where \n",
    "\n",
    "- $\\lambda$  → weight placed on time. Meaning the importance of how long it takes to get to equilibrium;\n",
    "- $x_d$ → desired amount of activity.\n",
    "\n",
    "when there's no need to maintain $x_d$, $u(t)= 0$. Now the mentioned equations will be discretized, so they can be used in future simulations:\n",
    "\n",
    "- Event-triggered Social Media Chatter Model:\n",
    "\n",
    "$$\n",
    "x(t+1) - x(t) = \\beta_1 u(t)[1 - x(t)] + \\beta_2 [1 - x(t)] x(t) - \\delta X_t\n",
    "$$\n",
    "\n",
    "- Cost function:\n",
    "\n",
    "$$\n",
    "J = \\sum_{k=0}^{T_F}(u^2(t) + (x(t) - x_d(t))^2 + \\lambda)\n",
    "$$\n",
    "\n",
    "- Equilibrium point:\n",
    "\n",
    "$$\n",
    "X_{eqb} = 1 - \\frac{\\delta}{\\beta_2}\n",
    "$$\n",
    "\n",
    "Gathering these equations, the optimization problem can be formulated as\n",
    "\n",
    "$$\n",
    "\\begin{aligned}\\underset{u}{\\text{minimize}}\\qquad& J(u, x) \\\\\\text{subjected to:}\\qquad& u_i \\ge 0 && i=1,\\dots,m\\\\& x_{i+1} = x_i + \\beta_1 u_i[1 - x_i] + \\beta_2 [1 - x_i] x_i - \\delta x_i \\\\& x_i \\ge 0\\end{aligned}\n",
    "$$\n",
    "\n",
    "More constraints may be added according to the control technique used. The constants used are defined in the cell below, following the same as used in the snipet on page 151 of [1]"
   ]
  },
  {
   "cell_type": "code",
   "execution_count": 6,
   "metadata": {},
   "outputs": [
    {
     "name": "stderr",
     "output_type": "stream",
     "text": [
      "\u001b[32m\u001b[1m   Resolving\u001b[22m\u001b[39m package versions...\n"
     ]
    },
    {
     "name": "stderr",
     "output_type": "stream",
     "text": [
      "\u001b[32m\u001b[1m  No Changes\u001b[22m\u001b[39m to `~/.julia/environments/v1.8/Project.toml`\n",
      "\u001b[32m\u001b[1m  No Changes\u001b[22m\u001b[39m to `~/.julia/environments/v1.8/Manifest.toml`\n"
     ]
    },
    {
     "name": "stderr",
     "output_type": "stream",
     "text": [
      "\u001b[32m\u001b[1m   Resolving\u001b[22m\u001b[39m package versions...\n"
     ]
    },
    {
     "name": "stderr",
     "output_type": "stream",
     "text": [
      "\u001b[32m\u001b[1m  No Changes\u001b[22m\u001b[39m to `~/.julia/environments/v1.8/Project.toml`\n",
      "\u001b[32m\u001b[1m  No Changes\u001b[22m\u001b[39m to `~/.julia/environments/v1.8/Manifest.toml`\n"
     ]
    },
    {
     "name": "stderr",
     "output_type": "stream",
     "text": [
      "\u001b[32m\u001b[1m   Resolving\u001b[22m\u001b[39m package versions...\n"
     ]
    },
    {
     "name": "stderr",
     "output_type": "stream",
     "text": [
      "\u001b[32m\u001b[1m  No Changes\u001b[22m\u001b[39m to `~/.julia/environments/v1.8/Project.toml`\n",
      "\u001b[32m\u001b[1m  No Changes\u001b[22m\u001b[39m to `~/.julia/environments/v1.8/Manifest.toml`\n"
     ]
    },
    {
     "name": "stderr",
     "output_type": "stream",
     "text": [
      "\u001b[32m\u001b[1m   Resolving\u001b[22m\u001b[39m package versions...\n"
     ]
    },
    {
     "name": "stderr",
     "output_type": "stream",
     "text": [
      "\u001b[32m\u001b[1m  No Changes\u001b[22m\u001b[39m to `~/.julia/environments/v1.8/Project.toml`\n",
      "\u001b[32m\u001b[1m  No Changes\u001b[22m\u001b[39m to `~/.julia/environments/v1.8/Manifest.toml`\n"
     ]
    },
    {
     "name": "stdout",
     "output_type": "stream",
     "text": [
      "  0.000207 seconds (180 allocations: 13.742 KiB)\n",
      "  0.000201 seconds (180 allocations: 13.742 KiB)\n",
      "  0.000214 seconds (180 allocations: 13.742 KiB)\n",
      "  0.000199 seconds (180 allocations: 13.742 KiB)\n"
     ]
    }
   ],
   "source": [
    "import Pkg; \n",
    "Pkg.add(\"JuMP\");\n",
    "Pkg.add(\"Clp\");\n",
    "Pkg.add(\"PyPlot\");\n",
    "Pkg.add(\"Ipopt\");\n",
    "\n",
    "@time using Clp;\n",
    "@time using JuMP;\n",
    "@time using PyPlot;\n",
    "@time using Ipopt;\n",
    "\n",
    "δ = 0.1; #forgetting factor\n",
    "β1 = 0.1; #spreading constant\n",
    "β2 = 0.15; #social spreading\n",
    "λ = 1; #time cost weight\n",
    "xEquilibrium = 1-(δ/β2);"
   ]
  },
  {
   "cell_type": "markdown",
   "metadata": {
    "collapsed": true
   },
   "source": [
    "## 3. Solução ##\n",
    "\n",
    "Nesta seção, coloque seu código em Julia + JuMP e resolva o problema proposto. Seu código deve ser limpo (não macarrônico!), de fácil leitura, bem comentado e anotado e deve compilar sem erros em Julia 1.x, x$\\geq 1$! Não valem códigos em outras linguagens. **Vou rodar seu código para avaliar seu projeto**. Sugiro a utilização de múltiplos blocos de códigos separados por blocos de texto (células Markdown) explicando as várias partes da sua solução. Sugiro também a resolução de várias versões do seu problema, com modelos e hipóteses diferentes.\n",
    "\n",
    "É permitido chamar pacotes externos, mas evite a utilização de bibliotecas exóticas (pois, em geral, não rodam em todas as versões de Julia, e terei que instalar a mesma versão que você usou, ou rodar na plataforma Google Colab, que gostaria de evitar)."
   ]
  },
  {
   "cell_type": "code",
   "execution_count": 33,
   "metadata": {},
   "outputs": [
    {
     "name": "stdout",
     "output_type": "stream",
     "text": [
      "100.00000012857558\n",
      "[0.33320922352713994, 0.3332176527573166, 0.3332254150623669, 0.3332325782045923, 0.33323920193715995, 0.33324533868314693, 0.33325103431068914, 0.33325632894774687, 0.33326125777059507, 0.33326585172500806, 0.33327013815980117, 0.3332741413687606, 0.3332778830466622, 0.333281382669204, 0.33328465780768163, 0.3332877243889323, 0.33329059691021823, 0.3332932886175451, 0.3332958116545502, 0.3332981771877302, 0.33330039551256435, 0.3333024761440961, 0.33330442789476816, 0.33330625894172367, 0.33330797688534225, 0.3333095888004432, 0.33331110128131924, 0.3333125204815552, 0.33331385214941434, 0.3333151016594395, 0.3333162740408015, 0.333317374002839, 0.3333184059581592, 0.3333193740436073, 0.3333202821393661, 0.3333211338864056, 0.3333219327024711, 0.33332268179677116, 0.33332338418350504, 0.3333240426943508, 0.3333246599900187, 0.33332523857096297, 0.3333257807873312, 0.33332628884822296, 0.3333267648303187, 0.3333272106859334, 0.33332762825054313, 0.3333280192498263, 0.33332838530625764, 0.33332872794528773, 0.33332904860113816, 0.3333293486222397, 0.3333296292763372, 0.33332989175528444, 0.33333013717954796, 0.33333036660244036, 0.3333305810140991, 0.3333307813452276, 0.33333096847061267, 0.33333114321243407, 0.3333313063433766, 0.3333314585895585, 0.33333160063328693, 0.33333173311565045, 0.3333318566389594, 0.3333319717690419, 0.3333320790374048, 0.33333217894326816, 0.3333322719554794, 0.333332358514315, 0.3333324390331767, 0.3333325139001876, 0.33333258347969474, 0.3333326481136838, 0.3333327081231104, 0.3333327638091536, 0.3333328154543966, 0.33333286332393747, 0.3333329076664359, 0.3333329487150982, 0.33333298668860495, 0.3333330217919843, 0.3333330542174346, 0.3333330841450983, 0.33333311174379077, 0.3333331371716862, 0.3333331605769632, 0.3333331820984117, 0.3333332018660037, 0.33333322000142895, 0.3333332366185961, 0.33333325182410045, 0.3333332657176569, 0.33333327839249804, 0.3333332899357332, 0.3333333004286652, 0.3333333099470583, 0.33333331856134485, 0.3333333263367549, 0.33333333333333326]\n",
      "[3.3383277174439916e-5, 2.9697991555589725e-5, 2.6529368361132097e-5, 2.3808033732551386e-5, 2.1468802554866454e-5, 1.9452627099526762e-5, 1.7707771007624988e-5, 1.619002504173557e-5, 1.4862288007878606e-5, 1.3693792355022553e-5, 1.2659204635926124e-5, 1.173774289510778e-5, 1.091237704227194e-5, 1.016913467291421e-5, 9.49651585366601e-6, 8.885011971332966e-6, 8.326718241571459e-6, 7.815025836715578e-6, 7.344378514464183e-6, 6.910079850310507e-6, 6.508139608325742e-6, 6.13515039040418e-6, 5.788187918455003e-6, 5.464729978995318e-6, 5.16259026125319e-6, 4.8798641737552095e-6, 4.614884342585708e-6, 4.3661839567506944e-6, 4.132466483340652e-6, 3.9125805587650414e-6, 3.7054990914804656e-6, 3.5103017985522456e-6, 3.3261605511552156e-6, 3.1523270284168026e-6, 2.988122279163128e-6, 2.832927870777264e-6, 2.6861783668228708e-6, 2.5473549234446622e-6, 2.4159798317480254e-6, 2.2916118620064314e-6, 2.1738422878758736e-6, 2.0622914865955658e-6, 1.9566060257692895e-6, 1.856456159711399e-6, 1.7615336691483397e-6, 1.6715499876894399e-6, 1.5862345671391576e-6, 1.505333441512013e-6, 1.4286079565514551e-6, 1.3558336376320098e-6, 1.2867991741286663e-6, 1.2213055026807198e-6, 1.15916497530476e-6, 1.1002006011023966e-6, 1.0442453524649477e-6, 9.911415283140832e-7, 9.40740168146989e-7, 8.929005115785307e-7, 8.474894987760435e-7, 8.04381307731221e-7, 7.634569247584521e-7, 7.246037449877048e-7, 6.877151999609413e-7, 6.52690409764745e-7, 6.194338574509862e-7, 5.878550838153229e-7, 5.578684009141371e-7, 5.293926229900778e-7, 5.02350813726717e-7, 4.766700489474792e-7, 4.5228119400302503e-7, 4.2911869515441125e-7, 4.0712038426597525e-7, 3.8622729608831824e-7, 3.6638349735742435e-7, 3.4753592687981793e-7, 3.29634245732348e-7, 3.126306966921404e-7, 2.9647997203699165e-7, 2.8113908892223557e-7, 2.665672716393898e-7, 2.52725840171131e-7, 2.395781045332324e-7, 2.270892643752978e-7, 2.1522631312481758e-7, 2.0395794552844995e-7, 1.9325446670567862e-7, 1.8308769973644395e-7, 1.73430887330342e-7, 1.6425858126279907e-7, 1.555465110088515e-7, 1.4727142031271888e-7, 1.394108570994691e-7, 1.3194289753852817e-7, 1.2484577762116655e-7, 1.1809739179733274e-7, 1.1167459098532613e-7, 1.0555215862520301e-7, 9.97012412297524e-8, 9.183479550875905e-41]\n"
     ]
    },
    {
     "data": {
      "image/png": "[encoded data removed]",
      "text/plain": [
       "Figure(PyObject <Figure size 640x480 with 2 Axes>)"
      ]
     },
     "metadata": {},
     "output_type": "display_data"
    }
   ],
   "source": [
    "m = Model(Ipopt.Optimizer);\n",
    "set_silent(m);\n",
    "numberOfIterations = 100;\n",
    "@variable(m, xOptimalControl[1:numberOfIterations] >= 0);        \n",
    "@variable(m, uOptimalControl[1:numberOfIterations] >= 0);\n",
    "\n",
    "for t in 1:numberOfIterations-1\n",
    "    @constraint(m, xOptimalControl[t+1] == xOptimalControl[t] + β1*uOptimalControl[t]*(1 - xOptimalControl[t]) + β2*(1 - xOptimalControl[t])*xOptimalControl[t] - δ*xOptimalControl[t]);\n",
    "end\n",
    "\n",
    "@constraint(m, uOptimalControl[numberOfIterations] == 0);\n",
    "@constraint(m, xOptimalControl[numberOfIterations] == xEquilibrium);\n",
    "@constraint(m, sum(xOptimalControl) >= 0);\n",
    "@constraint(m, sum(uOptimalControl) >= 0);\n",
    "\n",
    "@constraint(m, xOptimalControl[1] <= 1000) #prevent explosion\n",
    "@constraint(m, uOptimalControl[1] <= 1000) #prevent explosion\n",
    "\n",
    "@objective(m, Min, sum(\n",
    "    uOptimalControl .* uOptimalControl .+ (xOptimalControl .- xEquilibrium).*(xOptimalControl .- xEquilibrium) .+ λ\n",
    "));\n",
    "optimize!(m);\n",
    "\n",
    "println(JuMP.objective_value.(m))\n",
    "println(JuMP.value.(xOptimalControl));\n",
    "println(JuMP.value.(uOptimalControl));\n",
    "\n",
    "####### exporting variables for further analysis ########\n",
    "costOptimalControlResult = JuMP.objective_value.(m);\n",
    "xOptimalControlResult = JuMP.value.(xOptimalControl);\n",
    "uOptimalControlResult = JuMP.value.(uOptimalControl);\n",
    "\n",
    "##### plotting #######\n",
    "clf(); #required for vscode on mac \n",
    "fig = plt.figure();\n",
    "\n",
    "ax1 = fig.add_subplot(2, 1, 1);\n",
    "ax1.title.set_text(\"x vs step\");\n",
    "plt.plot(range(1, numberOfIterations), transpose(JuMP.value.(xOptimalControl)));\n",
    "\n",
    "ax2 = fig.add_subplot(2, 1, 2);\n",
    "ax2.title.set_text(\"u vs step\");\n",
    "plt.plot(range(1, numberOfIterations), transpose(JuMP.value.(uOptimalControl)));\n",
    "\n",
    "fig.tight_layout();\n",
    "show()\n",
    "gcf()"
   ]
  },
  {
   "cell_type": "markdown",
   "metadata": {},
   "source": [
    "**Tenha certeza de que seu código compila corretamente! Rodarei seu código!**"
   ]
  },
  {
   "cell_type": "markdown",
   "metadata": {
    "collapsed": true
   },
   "source": [
    "## 4. Resultados e discussão ##\n",
    "\n",
    "Neste seção, os resultados obtidos serão exibidos e discutidos. Mostre figuras, gráficos, imagens, curvas de compromisso, e o que mais puder melhor ilustrar seus resultados. A discussão deverá explicar o que significam os resultados e como interpretá-los. As limitações da sua abordagem/modelo também devem ser colocadas, bem como uma análise da sensibilidade dos resultados em relação às hipóteses feitas.\n",
    "\n",
    "\n",
    "Utilize plots (veja exemplos  `PyPlot` [aqui](https://gist.github.com/gizmaa/7214002))\n",
    "\n",
    "Aqui está um exemplo de uma tabela (em Markdown):\n",
    "\n",
    "| Tabelas        | São           | Boas  |\n",
    "| ------------- |:-------------:| -----:|\n",
    "| col 3 é      | alinhado à direita |\\$1600 |\n",
    "| col 2 é      | centrado      |  \\$12 |\n",
    "| texto | também serve      |   \\$1 |\n",
    "\n",
    "### 4.A. Subseções devem ser utilizadas para organizar seu texto.\n",
    "\n",
    "#### 4.A.a. ou até subsubseções."
   ]
  },
  {
   "cell_type": "markdown",
   "metadata": {
    "collapsed": true
   },
   "source": [
    "## 5. Conclusão ##\n",
    "\n",
    "Faça um resumo do que encontrou e dos seus resultados, e fale de pelo menos uma direção na qual  seu trabalho pode ser desenvolvido no futuro, algo que poderia ser interessante em decorrência do seu projeto.\n"
   ]
  },
  {
   "cell_type": "markdown",
   "metadata": {},
   "source": [
    "## 6. Referências bibliográficas ##\n",
    "\n",
    "Nesta seção, cite _*todas*_ as referências utilizadas, na formulação matemática, no código ou para extrair dados ou figuras. Omissão de fontes é transgressão grave, denominada plágio."
   ]
  }
 ],
 "metadata": {
  "@webio": {
   "lastCommId": null,
   "lastKernelId": null
  },
  "kernelspec": {
   "display_name": "Julia 1.8.1",
   "language": "julia",
   "name": "julia-1.8"
  },
  "language_info": {
   "file_extension": ".jl",
   "mimetype": "application/julia",
   "name": "julia",
   "version": "1.8.1"
  }
 },
 "nbformat": 4,
 "nbformat_minor": 1
}
