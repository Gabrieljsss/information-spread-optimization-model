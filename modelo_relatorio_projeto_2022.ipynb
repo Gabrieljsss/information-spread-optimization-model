{
 "cells": [
  {
   "cell_type": "markdown",
   "metadata": {},
   "source": [
    "### COM361 &mdash; Introdução a Otimização &mdash; 2022, Prof. Amit ###\n",
    "\n",
    "# Event triggered social media chatter model - Julia implementation #\n",
    "\n",
    "#### Gabriel José Souza e Silva (gabriel.jsss@poli.ufrj.br), Matheus Marinatto (marinattomatheus@poli.ufrj.br)\n",
    "\n",
    "\n",
    "### Contents ###\n",
    "\n",
    "1. Introduction and problem description\n",
    "2. Mathmatical modeling"
   ]
  },
  {
   "cell_type": "markdown",
   "metadata": {},
   "source": [
    "## 1. Introduction and problem description ##\n",
    "\n",
    "This project's goal is to describe and explore a social marketing-based model for information spread, testing different control techniques so to determine which one provides better results. An important constraint for most marketing campaigns nowadays is the advertising cost, therefore a key goal for dispersing a message is to do that as efficiently and possible respecting budget and time constraints. From that, many optimization problems can be formulated. The following question, described in [1] gives the reason for such models to exist:\n",
    "\n",
    "> At a high level, how does an organization sell to someone? Typically, individuals or groups (like marketing agencies) are enlisted as message spreaders who broadcast that information in a variety of formats including billboards, social media posts, and television advertisements.\n",
    "> \n",
    "\n",
    "So in order to sell, it's necessary to spread information and the further question would be **how to maximize sells (and information spread) while minimizing costs**.\n",
    "\n",
    "In [1], the approach to design an advertising model starts from the well established Vidale-Wolfe marketing model with some tweaks to better handle the social media dynamics. Quoting [2]:\n",
    "\n",
    "> The Vidale-Wolfe marketing model is a first-order, linear, nonhomogeneous ordinary differential equation (ODE) where the forcing term is proportional to advertising expenditure. With an initial response in sales as the initial condition, the solution of the initial value problem is straightforward for a first undergraduate ODE course.\n",
    "> \n",
    "\n",
    "Mathematically, this model is described as follows:\n",
    "\n",
    " $\\frac{dS(t)}{dt} = \\beta u(t)[M(t) - S(t)] - \\delta S(t)$\n",
    "\n",
    "where\n",
    "\n",
    "- S(t) → Sales at time t;\n",
    "- M(t) → Market size at time t;\n",
    "- $\\beta$ → Advertising constant;\n",
    "- $\\delta$ → Rate of brand sale decay;\n",
    "- $u(t)$ → Control action at time t.\n",
    "\n",
    "Most of the terms above are self-explanatory but $\\beta$, which is described in [1] as “[…] the rate of decay of brand sale given no active advertising.”\n",
    "\n",
    "From that, the Event-triggered Social Media Chatter Model is derived by doing the following:\n",
    "\n",
    "1. Normalizing Vidale-Wolfe's model by setting $M(t) = 1$;\n",
    "2. Breaking $\\beta$ into two other constants:\n",
    "    1. $\\beta_1$ → the social marketing campaign constant;\n",
    "    2. $\\beta_2$ → the social interaction constant;\n",
    "3. Generalizing the sales term $S(t)$ to an information spread value $X_t$.\n",
    "\n",
    "In [1] the meaning of these constants is explained in the following paragraph\n",
    "\n",
    "> The effectiveness of social marketing is affected by dynamic resource spending and promotion over the network to convince people to purchase a product, uphold a social or political movement, or join in an activity. The social marketing constant can be associated with a traditional advertising campaign or an event that triggers similar social media interest. Once people become exposed to an advertisement and decide to share the message, the social interaction constant may be viewed as the natural tendency of the social media network to advertise internally through posts, tweets, and likes without external influences and advertising.\n",
    "> \n",
    "\n",
    "The final mathematical model is \n",
    "\n",
    "$$\n",
    "dX_t = \\beta_1 u(t)[1 - X_t] + \\beta_2 [1 - X_t] X_t - \\delta X_t\n",
    "$$\n",
    "\n",
    "or visually \n",
    "\n",
    "![Model](./assets/model.png)\n",
    "\n",
    "The final definition to be presented is the concept of socio-equilibrium threshold. It basically describes the equilibrium level of social media chatter after the control (promotion) goes to 0 or mathematically\n",
    "\n",
    "$$\n",
    "X_{eqb} = 1 - \\frac{\\delta}{\\beta_2}\n",
    "$$\n",
    "\n",
    "In [1], $\\beta_2$ is multiplied by a factor k, but in this project the value of k will be embedded in $\\beta_2$. Finally, the “[…] goal of social media marketing is to increase peoples’ attention and interest beyond the natural equilibrium point through the control action of spending resources on ads…” and at the same time minimizing the associated costs.\n",
    "\n"
   ]
  },
  {
   "cell_type": "markdown",
   "metadata": {},
   "source": [
    "## 2. Mathematical model ##\n",
    "\n",
    "During a marketing campaign, **the goal is to achieve social craze status as fast as possible while keeping costs as low as possible**. From that the optimization problem will be derived. The cost function for the Event-triggered Social Media Chatter Model is defined in [1] as \n",
    "\n",
    "$$\n",
    "J = \\int_{0}^{t_f}  [u^2(t) + (x-x_d)^2 + \\lambda] dt\n",
    "$$\n",
    "\n",
    "where \n",
    "\n",
    "- $\\lambda$  → weight placed on time. Meaning the importance of how long it takes to get to equilibrium;\n",
    "- $x_d$ → desired amount of activity.\n",
    "\n",
    "when there's no need to maintain $x_d$, $u(t)= 0$. Now the mentioned equations will be discretized, so they can be used in future simulations:\n",
    "\n",
    "- Event-triggered Social Media Chatter Model:\n",
    "\n",
    "$$\n",
    "x(t+1) - x(t) = \\beta_1 u(t)[1 - x(t)] + \\beta_2 [1 - x(t)] x(t) - \\delta X_t\n",
    "$$\n",
    "\n",
    "- Cost function:\n",
    "\n",
    "$$\n",
    "J = \\sum_{k=0}^{T_F}(u^2(t) + (x(t) - x_d(t))^2 + \\lambda)\n",
    "$$\n",
    "\n",
    "- Equilibrium point:\n",
    "\n",
    "$$\n",
    "X_{eqb} = 1 - \\frac{\\delta}{\\beta_2}\n",
    "$$\n",
    "\n",
    "Gathering these equations, the optimization problem can be formulated as\n",
    "\n",
    "$$\n",
    "\\begin{aligned}\\underset{u}{\\text{minimize}}\\qquad& J(u, x) \\\\\\text{subjected to:}\\qquad& u_i \\ge 0 && i=1,\\dots,m\\\\& x_{i+1} = x_i + \\beta_1 u_i[1 - x_i] + \\beta_2 [1 - x_i] x_i - \\delta x_i \\\\& x_i \\ge 0\\end{aligned}\n",
    "$$\n",
    "\n",
    "More constraints may be added according to the control technique used. The constants used are defined in the cell below, following the same as used in the snipet on page 151 of [1]"
   ]
  },
  {
   "cell_type": "code",
   "execution_count": null,
   "metadata": {},
   "outputs": [],
   "source": [
    "δ = 0.1; #forgetting factor\n",
    "β1 = .1; % #spreading constant\n",
    "β2 = .15; % #social spreading\n",
    "#ut = ctrl(t); #control profile\n",
    "λ = 1;\n",
    "X_eqb = 1-(delta/b2);"
   ]
  },
  {
   "cell_type": "markdown",
   "metadata": {
    "collapsed": true
   },
   "source": [
    "## 3. Solução ##\n",
    "\n",
    "Nesta seção, coloque seu código em Julia + JuMP e resolva o problema proposto. Seu código deve ser limpo (não macarrônico!), de fácil leitura, bem comentado e anotado e deve compilar sem erros em Julia 1.x, x$\\geq 1$! Não valem códigos em outras linguagens. **Vou rodar seu código para avaliar seu projeto**. Sugiro a utilização de múltiplos blocos de códigos separados por blocos de texto (células Markdown) explicando as várias partes da sua solução. Sugiro também a resolução de várias versões do seu problema, com modelos e hipóteses diferentes.\n",
    "\n",
    "É permitido chamar pacotes externos, mas evite a utilização de bibliotecas exóticas (pois, em geral, não rodam em todas as versões de Julia, e terei que instalar a mesma versão que você usou, ou rodar na plataforma Google Colab, que gostaria de evitar)."
   ]
  },
  {
   "cell_type": "code",
   "execution_count": 3,
   "metadata": {},
   "outputs": [
    {
     "name": "stdout",
     "output_type": "stream",
     "text": [
      "O número total de cavalos é: 10.0\n",
      "O número total de jegues é: 0.0\n",
      "O número total de cabras é: 0.0\n"
     ]
    }
   ],
   "source": [
    "# Este é um exemplo de um bloco de código\n",
    "using JuMP, Clp\n",
    "m = Model(with_optimizer(Clp.Optimizer,LogLevel=0) )\n",
    "bichos = [:cavalos, :jegues, :cabras]  # estes são os bichos \n",
    "@variable(m, x[bichos] >= 0)          # as quantidades de cada um (não podem ser negativas)\n",
    "@constraint(m, sum(x) <= 10)          # não podemos ter mais de 10 no total.\n",
    "@objective(m, Max, x[:cavalos])        # queremos maximizar o número de cavalos\n",
    "optimize!(m)\n",
    "\n",
    "for i in bichos\n",
    "    println(\"O número total de \", i, \" é: \", JuMP.value.(x[i]))     # imprime o resultado na tela\n",
    "end"
   ]
  },
  {
   "cell_type": "markdown",
   "metadata": {},
   "source": [
    "**Tenha certeza de que seu código compila corretamente! Rodarei seu código!**"
   ]
  },
  {
   "cell_type": "markdown",
   "metadata": {
    "collapsed": true
   },
   "source": [
    "## 4. Resultados e discussão ##\n",
    "\n",
    "Neste seção, os resultados obtidos serão exibidos e discutidos. Mostre figuras, gráficos, imagens, curvas de compromisso, e o que mais puder melhor ilustrar seus resultados. A discussão deverá explicar o que significam os resultados e como interpretá-los. As limitações da sua abordagem/modelo também devem ser colocadas, bem como uma análise da sensibilidade dos resultados em relação às hipóteses feitas.\n",
    "\n",
    "\n",
    "Utilize plots (veja exemplos  `PyPlot` [aqui](https://gist.github.com/gizmaa/7214002))\n",
    "\n",
    "Aqui está um exemplo de uma tabela (em Markdown):\n",
    "\n",
    "| Tabelas        | São           | Boas  |\n",
    "| ------------- |:-------------:| -----:|\n",
    "| col 3 é      | alinhado à direita |\\$1600 |\n",
    "| col 2 é      | centrado      |  \\$12 |\n",
    "| texto | também serve      |   \\$1 |\n",
    "\n",
    "### 4.A. Subseções devem ser utilizadas para organizar seu texto.\n",
    "\n",
    "#### 4.A.a. ou até subsubseções."
   ]
  },
  {
   "cell_type": "markdown",
   "metadata": {
    "collapsed": true
   },
   "source": [
    "## 5. Conclusão ##\n",
    "\n",
    "Faça um resumo do que encontrou e dos seus resultados, e fale de pelo menos uma direção na qual  seu trabalho pode ser desenvolvido no futuro, algo que poderia ser interessante em decorrência do seu projeto.\n"
   ]
  },
  {
   "cell_type": "markdown",
   "metadata": {},
   "source": [
    "## 6. Referências bibliográficas ##\n",
    "\n",
    "Nesta seção, cite _*todas*_ as referências utilizadas, na formulação matemática, no código ou para extrair dados ou figuras. Omissão de fontes é transgressão grave, denominada plágio."
   ]
  }
 ],
 "metadata": {
  "@webio": {
   "lastCommId": null,
   "lastKernelId": null
  },
  "kernelspec": {
   "display_name": "Julia 1.8.1",
   "language": "julia",
   "name": "julia-1.8"
  },
  "language_info": {
   "file_extension": ".jl",
   "mimetype": "application/julia",
   "name": "julia",
   "version": "1.8.1"
  }
 },
 "nbformat": 4,
 "nbformat_minor": 1
}
